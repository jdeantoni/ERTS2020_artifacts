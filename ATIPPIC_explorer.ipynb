{
 "cells": [
  {
   "cell_type": "code",
   "execution_count": 1,
   "metadata": {
    "scrolled": false
   },
   "outputs": [
    {
     "data": {
      "application/vnd.jupyter.widget-view+json": {
       "model_id": "e47abb073d0a4c4f92d018171ca0a441",
       "version_major": 2,
       "version_minor": 0
      },
      "text/plain": [
       "interactive(children=(IntSlider(value=150, description='offsetFFT2', max=200, min=100, step=50), IntSlider(val…"
      ]
     },
     "metadata": {},
     "output_type": "display_data"
    }
   ],
   "source": [
    "from __future__ import print_function\n",
    "import pandas as pd\n",
    "from datetime import datetime\n",
    "import csv\n",
    "import matplotlib.pyplot as plt\n",
    "import matplotlib.dates as mdates\n",
    "from ipywidgets import interact, interactive, fixed, interact_manual\n",
    "import ipywidgets as widgets\n",
    "from IPython.display import display\n",
    "\n",
    "\n",
    "def f(offsetFFT2,offsetSPW_Acquisition2):\n",
    "    df = pd.read_csv(\"Use_case_DoubleCamera_newValues.ATIPPIC.executable\"+str(offsetFFT2)+\".0_\"+str(offsetSPW_Acquisition2)+\".0/Use_case_DoubleCamera_newValues.ATIPPIC.executable\"+str(offsetFFT2)+\".0_\"+str(offsetSPW_Acquisition2)+\".0.csv\",sep=',')\n",
    "    header= df.columns.tolist()\n",
    "    rtdName = \"\"\n",
    "    \n",
    "    x = df[str(header[0])]\n",
    "    for c in header[1:]:\n",
    "        chunk = c.split('_')\n",
    "        rtd = chunk[len(chunk)-1]\n",
    "        if (rtd == rtdName):\n",
    "            plt.plot(x,df[c],label=c)\n",
    "        else:\n",
    "            if(c != header[1]):\n",
    "                plt.legend()\n",
    "            plt.figure(figsize=(17,6))\n",
    "            plt.grid(True)\n",
    "            plt.plot(x,df[c],label=c)\n",
    "        rtdName = rtd\n",
    "    plt.legend()\n",
    "    # beautify the x-labels\n",
    "    plt.gcf().autofmt_xdate()\n",
    "    plt.show()\n",
    "  \n",
    "    return\n",
    "\n",
    "graph_throughputs = interactive(f, offsetFFT2=widgets.IntSlider(min=100.0,max=200.0,step=50.0,value=150),offsetSPW_Acquisition2=widgets.IntSlider(min=0.0,max=100.0,step=50.0,value=50));\n",
    "display(graph_throughputs)\n"
   ]
  },
  {
   "cell_type": "code",
   "execution_count": null,
   "metadata": {
    "scrolled": false
   },
   "outputs": [],
   "source": []
  },
  {
   "cell_type": "code",
   "execution_count": null,
   "metadata": {
    "scrolled": true
   },
   "outputs": [],
   "source": []
  },
  {
   "cell_type": "code",
   "execution_count": null,
   "metadata": {},
   "outputs": [],
   "source": []
  }
 ],
 "metadata": {
  "kernelspec": {
   "display_name": "Python 3",
   "language": "python",
   "name": "python3"
  },
  "language_info": {
   "codemirror_mode": {
    "name": "ipython",
    "version": 3
   },
   "file_extension": ".py",
   "mimetype": "text/x-python",
   "name": "python",
   "nbconvert_exporter": "python",
   "pygments_lexer": "ipython3",
   "version": "3.7.3"
  }
 },
 "nbformat": 4,
 "nbformat_minor": 2
}
