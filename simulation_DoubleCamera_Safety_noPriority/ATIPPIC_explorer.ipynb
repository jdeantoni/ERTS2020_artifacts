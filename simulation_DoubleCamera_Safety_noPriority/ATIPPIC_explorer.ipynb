{
 "cells": [
  {
   "cell_type": "code",
   "execution_count": 1,
   "metadata": {},
   "outputs": [
    {
     "data": {
      "text/html": [
       "<style>.container { width:100% !important; }</style>"
      ],
      "text/plain": [
       "<IPython.core.display.HTML object>"
      ]
     },
     "metadata": {},
     "output_type": "display_data"
    },
    {
     "data": {
      "text/html": [
       "<script>\n",
       "code_show=true; \n",
       "function code_toggle() {\n",
       " if (code_show){\n",
       " $('div.input').hide();\n",
       " } else {\n",
       " $('div.input').show();\n",
       " }\n",
       " code_show = !code_show\n",
       "} \n",
       "$( document ).ready(code_toggle);\n",
       "</script>\n",
       "The raw code for this IPython notebook is by default hidden for easier reading.\n",
       "To toggle on/off the raw code, click <a href=\"javascript:code_toggle()\">here</a>."
      ],
      "text/plain": [
       "<IPython.core.display.HTML object>"
      ]
     },
     "execution_count": 1,
     "metadata": {},
     "output_type": "execute_result"
    }
   ],
   "source": [
    "from IPython.core.display import display, HTML\n",
    "display(HTML(\"<style>.container { width:100% !important; }</style>\"))\n",
    "HTML('''<script>\n",
    "code_show=true; \n",
    "function code_toggle() {\n",
    " if (code_show){\n",
    " $('div.input').hide();\n",
    " } else {\n",
    " $('div.input').show();\n",
    " }\n",
    " code_show = !code_show\n",
    "} \n",
    "$( document ).ready(code_toggle);\n",
    "</script>\n",
    "The raw code for this IPython notebook is by default hidden for easier reading.\n",
    "To toggle on/off the raw code, click <a href=\"javascript:code_toggle()\">here</a>.''')"
   ]
  },
  {
   "cell_type": "code",
   "execution_count": 2,
   "metadata": {},
   "outputs": [
    {
     "ename": "SyntaxError",
     "evalue": "invalid syntax (<ipython-input-2-1648e130df2b>, line 1)",
     "output_type": "error",
     "traceback": [
      "\u001b[0;36m  File \u001b[0;32m\"<ipython-input-2-1648e130df2b>\"\u001b[0;36m, line \u001b[0;32m1\u001b[0m\n\u001b[0;31m    pip install pandas matplotlib bokeh\u001b[0m\n\u001b[0m              ^\u001b[0m\n\u001b[0;31mSyntaxError\u001b[0m\u001b[0;31m:\u001b[0m invalid syntax\n"
     ]
    }
   ],
   "source": [
    "pip install pandas matplotlib bokeh"
   ]
  },
  {
   "cell_type": "code",
   "execution_count": null,
   "metadata": {
    "scrolled": false
   },
   "outputs": [],
   "source": [
    "from __future__ import print_function\n",
    "import pandas as pd\n",
    "from datetime import datetime\n",
    "import csv\n",
    "#import matplotlib.pyplot as plt\n",
    "import seaborn as sns\n",
    "#from bokeh.plotting import figure, output_file, show\n",
    "from bokeh.models import ColumnDataSource, HoverTool, Legend\n",
    "from bokeh.plotting import figure, show\n",
    "from bokeh.palettes import Category10\n",
    "import itertools\n",
    "import random \n",
    "import string\n",
    "\n",
    "import matplotlib.dates as mdates\n",
    "from ipywidgets import interact, interactive, fixed, interact_manual\n",
    "import ipywidgets as widgets\n",
    "from IPython.display import display\n",
    "from bokeh.io import output_notebook\n",
    "\n",
    "def color_gen():\n",
    "    yield from itertools.cycle(Category10[10])\n",
    "color = color_gen()\n",
    "sns.set()\n",
    "\n",
    "def plot_lines_multi(df,lw=2,pw=1200,ph=400,t_str=\"save,pan,box_zoom,reset,wheel_zoom\",t_loc='above'):\n",
    "    '''...\n",
    "    '''\n",
    "    source = ColumnDataSource(df)\n",
    "    col_names = source.column_names\n",
    "    p = figure(x_axis_type=\"linear\",plot_width=pw, plot_height=ph,toolbar_location=t_loc, tools=t_str, output_backend=\"webgl\")\n",
    "    p_dict = dict()\n",
    "    lastRtdName = \"\"\n",
    "    for col, c, col_name in zip(df.columns,color,col_names):\n",
    "        chunk = col_name.split('_')\n",
    "        rtd = chunk[len(chunk)-1]\n",
    "        if (col_name == 'index' or col_name == 'timeRef'): #rtd == \"total\" or rtd == \"mean\" or\n",
    "            lastRTD = rtd\n",
    "            continue\n",
    "    \n",
    "        if (rtd != lastRtdName and  len(p_dict.items()) > 1):\n",
    "            legend = Legend(items=[(x, [p_dict[x]]) for x in p_dict])\n",
    "            p.add_layout(legend)#, 'right')#,'right')\n",
    "            p.legend.click_policy=\"hide\"\n",
    "            show(p)\n",
    "\n",
    "            p = figure(x_axis_type=\"linear\",plot_width=pw, plot_height=ph,toolbar_location=t_loc, tools=t_str, output_backend=\"webgl\")\n",
    "            p_dict = dict()\n",
    "           \n",
    "        p_dict[col_name] = p.line('timeRef', col_name, source=source, color=c,line_width=lw)\n",
    "        p.add_tools(HoverTool(\n",
    "            renderers=[p_dict[col_name]],\n",
    "            tooltips=[('timeRef','@{timeRef}ms'),(col_name, f'@{col}')],\n",
    "        ))            \n",
    "        lastRtdName = rtd\n",
    "    legend =Legend(items=[(x, [p_dict[x]]) for x in p_dict])\n",
    "    p.add_layout(legend)#,'right')\n",
    "    p.legend.click_policy=\"hide\"\n",
    "#    p[figIndex].legend.orientation = \"horizontal\"\n",
    "    show(p)\n",
    "    \n",
    "\n",
    "def f(offsetFFT2,offsetSPW_Acquisition2,samplingRate):\n",
    "    df = pd.read_csv(\"Use_case_DoubleCamera_Safety.ATIPPIC0.executable\"+str(offsetFFT2)+\".0_\"+str(offsetSPW_Acquisition2)+\".0/Use_case_DoubleCamera_Safety.ATIPPIC.executable200.0_20.0.csv\",sep=',',\n",
    "                    skiprows=lambda i: i % (100/samplingRate) != 0)#, index_col=False)\n",
    "    #'HP2_Bus_load', 'HP23_Bus_load', 'CortexToDDR_Bus_load',\n",
    "    df = df.drop(['HP2_latence_total', 'HP23_latence_total', 'CortexToDDR_latence_total', 'HP2_latence_mean', 'HP23_latence_mean', 'CortexToDDR_latence_mean'], axis=1)\n",
    "    print('please wait while loading the 3 graphs...')\n",
    "    output_notebook()\n",
    "    df['timeRef'] = df['timeRef'].apply(lambda x: x*0.003125)\n",
    "    df.set_index(df['timeRef'])\n",
    "    plot_lines_multi(df)\n",
    "    return\n",
    "style = {'description_width': 'initial'}\n",
    "graph_throughputs = interactive(f, \n",
    "                                offsetFFT2=widgets.IntSlider(min=100.0,max=300.0,step=10.0,value=200,continuous_update=False, style=style),\n",
    "                                offsetSPW_Acquisition2=widgets.IntSlider(min=0.0,max=100.0,step=10.0,value=0,continuous_update=False, style=style),\n",
    "                                samplingRate=widgets.Dropdown(options=[100, 50, 10],value=10,description='sampling rate:',disabled=False, style=style)\n",
    "\n",
    ");\n",
    "display(graph_throughputs)\n"
   ]
  },
  {
   "cell_type": "code",
   "execution_count": null,
   "metadata": {},
   "outputs": [],
   "source": []
  },
  {
   "cell_type": "code",
   "execution_count": null,
   "metadata": {},
   "outputs": [],
   "source": []
  }
 ],
 "metadata": {
  "kernelspec": {
   "display_name": "Python 3",
   "language": "python",
   "name": "python3"
  },
  "language_info": {
   "codemirror_mode": {
    "name": "ipython",
    "version": 3
   },
   "file_extension": ".py",
   "mimetype": "text/x-python",
   "name": "python",
   "nbconvert_exporter": "python",
   "pygments_lexer": "ipython3",
   "version": "3.7.3"
  }
 },
 "nbformat": 4,
 "nbformat_minor": 2
}
